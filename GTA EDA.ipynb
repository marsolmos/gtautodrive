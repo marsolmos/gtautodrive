{
 "cells": [
  {
   "cell_type": "code",
   "execution_count": 1,
   "metadata": {},
   "outputs": [],
   "source": [
    "import numpy as np\n",
    "import pandas as pd\n",
    "import matplotlib.pyplot as plt"
   ]
  },
  {
   "cell_type": "code",
   "execution_count": 2,
   "metadata": {},
   "outputs": [
    {
     "name": "stdout",
     "output_type": "stream",
     "text": [
      "training_data-9.npy - Sample Size: 500\n",
      "X shape: (500, 300, 400, 3)\n"
     ]
    },
    {
     "data": {
      "image/png": "[encoded data removed]",
      "text/plain": [
       "<Figure size 576x432 with 1 Axes>"
      ]
     },
     "metadata": {
      "needs_background": "light"
     },
     "output_type": "display_data"
    }
   ],
   "source": [
    "# Initial Setup\n",
    "MODEL_NAME = 'model_4_400x300_raw_inceptionv3'\n",
    "i = 9\n",
    "\n",
    "# lOAD DATA\n",
    "file_name = 'D:/Data Warehouse/pygta5/data/{}/training_data-{}.npy'.format(MODEL_NAME, i)\n",
    "# full file info\n",
    "train_data = np.load(file_name, allow_pickle=True)\n",
    "\n",
    "SAMPLE = len(train_data)\n",
    "print('training_data-{}.npy - Sample Size: {}'.format(i,SAMPLE))\n",
    "\n",
    "x = np.array([i[0] for i in train_data]) #/ 255.0 # Divide to normalize values between 0 and 1\n",
    "print('X shape: {}'.format(str(x.shape)))\n",
    "y = np.array([i[1] for i in train_data])\n",
    "\n",
    "# Prepare data for visualization\n",
    "labels = pd.DataFrame(y, columns=['w','s','a','d','wa','wd','sa','sd','nk',])\n",
    "\n",
    "def get_key(row):\n",
    "    for c in labels.columns:\n",
    "        if row[c]==1:\n",
    "            return c\n",
    "        \n",
    "data = labels.apply(get_key, axis=1)\n",
    "\n",
    "\n",
    "# define window size, output and axes\n",
    "fig, ax = plt.subplots(figsize=[8,6])\n",
    "\n",
    "# set plot title\n",
    "ax.set_title(\"Key distribution\")\n",
    "\n",
    "# set x-axis name\n",
    "ax.set_xlabel(\"Key input\")\n",
    "\n",
    "# set y-axis name\n",
    "ax.set_ylabel(\"Frequency\")\n",
    "\n",
    "# create histogram within output\n",
    "N, bins, patches = ax.hist(data, bins=50, color=\"#777777\") #initial color of all bins\n",
    "\n",
    "plt.show()"
   ]
  }
 ],
 "metadata": {
  "kernelspec": {
   "display_name": "Python 3",
   "language": "python",
   "name": "python3"
  },
  "language_info": {
   "codemirror_mode": {
    "name": "ipython",
    "version": 3
   },
   "file_extension": ".py",
   "mimetype": "text/x-python",
   "name": "python",
   "nbconvert_exporter": "python",
   "pygments_lexer": "ipython3",
   "version": "3.7.6"
  }
 },
 "nbformat": 4,
 "nbformat_minor": 4
}
